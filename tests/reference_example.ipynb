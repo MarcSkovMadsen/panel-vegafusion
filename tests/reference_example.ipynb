{
 "cells": [
  {
   "cell_type": "markdown",
   "id": "c14ef81d-2983-4b8b-a5b1-abdc6276f577",
   "metadata": {},
   "source": [
    "## Reference Jupyter VegaFusion Example"
   ]
  },
  {
   "cell_type": "code",
   "execution_count": 1,
   "id": "2e499dd1-0682-4118-ba0c-ac721ff6c77b",
   "metadata": {},
   "outputs": [],
   "source": [
    "import vegafusion_jupyter as vf\n",
    "vf.enable()"
   ]
  },
  {
   "cell_type": "code",
   "execution_count": 2,
   "id": "7e7df61f-3bfd-4b26-b157-ef4261ed9d66",
   "metadata": {},
   "outputs": [],
   "source": [
    "import altair as alt\n",
    "from vega_datasets import data"
   ]
  },
  {
   "cell_type": "code",
   "execution_count": 3,
   "id": "1adeffb7-ae16-4a15-9ecf-f757b95bc5c3",
   "metadata": {},
   "outputs": [
    {
     "data": {
      "application/vnd.jupyter.widget-view+json": {
       "model_id": "586b550f4e854fbc9bc3448501c64fc6",
       "version_major": 2,
       "version_minor": 0
      },
      "text/plain": [
       "VegaFusionWidget(spec='{\\n  \"config\": {\\n    \"view\": {\\n      \"continuousWidth\": 400,\\n      \"continuousHeight…"
      ]
     },
     "metadata": {},
     "output_type": "display_data"
    },
    {
     "data": {
      "text/plain": []
     },
     "execution_count": 3,
     "metadata": {},
     "output_type": "execute_result"
    }
   ],
   "source": [
    "source = data.seattle_weather()\n",
    "brush = alt.selection(type='interval', encodings=['x'])\n",
    "\n",
    "bars = alt.Chart().mark_bar().encode(\n",
    "    x='month(date):O',\n",
    "    y='mean(precipitation):Q',\n",
    "    opacity=alt.condition(brush, alt.OpacityValue(1), alt.OpacityValue(0.7)),\n",
    ").add_selection(\n",
    "    brush\n",
    ")\n",
    "\n",
    "line = alt.Chart().mark_rule(color='firebrick').encode(\n",
    "    y='mean(precipitation):Q',\n",
    "    size=alt.SizeValue(3)\n",
    ").transform_filter(\n",
    "    brush\n",
    ")\n",
    "\n",
    "chart = alt.layer(bars, line, data=source)\n",
    "chart"
   ]
  }
 ],
 "metadata": {
  "kernelspec": {
   "display_name": "Python 3 (ipykernel)",
   "language": "python",
   "name": "python3"
  },
  "language_info": {
   "codemirror_mode": {
    "name": "ipython",
    "version": 3
   },
   "file_extension": ".py",
   "mimetype": "text/x-python",
   "name": "python",
   "nbconvert_exporter": "python",
   "pygments_lexer": "ipython3",
   "version": "3.9.4"
  }
 },
 "nbformat": 4,
 "nbformat_minor": 5
}
